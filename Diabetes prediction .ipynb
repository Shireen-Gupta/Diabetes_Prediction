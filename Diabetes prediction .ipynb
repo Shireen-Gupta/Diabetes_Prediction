{
 "cells": [
  {
   "cell_type": "code",
   "execution_count": 2,
   "metadata": {},
   "outputs": [],
   "source": [
    "import pandas as pd\n",
    "import numpy as np\n",
    "import matplotlib.pyplot as plt"
   ]
  },
  {
   "cell_type": "code",
   "execution_count": 3,
   "metadata": {},
   "outputs": [
    {
     "data": {
      "text/html": [
       "<div>\n",
       "<style scoped>\n",
       "    .dataframe tbody tr th:only-of-type {\n",
       "        vertical-align: middle;\n",
       "    }\n",
       "\n",
       "    .dataframe tbody tr th {\n",
       "        vertical-align: top;\n",
       "    }\n",
       "\n",
       "    .dataframe thead th {\n",
       "        text-align: right;\n",
       "    }\n",
       "</style>\n",
       "<table border=\"1\" class=\"dataframe\">\n",
       "  <thead>\n",
       "    <tr style=\"text-align: right;\">\n",
       "      <th></th>\n",
       "      <th>Pregnancies</th>\n",
       "      <th>Glucose</th>\n",
       "      <th>BloodPressure</th>\n",
       "      <th>SkinThickness</th>\n",
       "      <th>Insulin</th>\n",
       "      <th>BMI</th>\n",
       "      <th>DiabetesPedigreeFunction</th>\n",
       "      <th>Age</th>\n",
       "      <th>Outcome</th>\n",
       "    </tr>\n",
       "  </thead>\n",
       "  <tbody>\n",
       "    <tr>\n",
       "      <th>0</th>\n",
       "      <td>0</td>\n",
       "      <td>84</td>\n",
       "      <td>82</td>\n",
       "      <td>31</td>\n",
       "      <td>125</td>\n",
       "      <td>38.2</td>\n",
       "      <td>0.233</td>\n",
       "      <td>23</td>\n",
       "      <td>0</td>\n",
       "    </tr>\n",
       "    <tr>\n",
       "      <th>1</th>\n",
       "      <td>0</td>\n",
       "      <td>135</td>\n",
       "      <td>68</td>\n",
       "      <td>42</td>\n",
       "      <td>250</td>\n",
       "      <td>42.3</td>\n",
       "      <td>0.365</td>\n",
       "      <td>24</td>\n",
       "      <td>1</td>\n",
       "    </tr>\n",
       "    <tr>\n",
       "      <th>2</th>\n",
       "      <td>1</td>\n",
       "      <td>139</td>\n",
       "      <td>62</td>\n",
       "      <td>41</td>\n",
       "      <td>480</td>\n",
       "      <td>40.7</td>\n",
       "      <td>0.536</td>\n",
       "      <td>21</td>\n",
       "      <td>0</td>\n",
       "    </tr>\n",
       "    <tr>\n",
       "      <th>3</th>\n",
       "      <td>0</td>\n",
       "      <td>173</td>\n",
       "      <td>78</td>\n",
       "      <td>32</td>\n",
       "      <td>265</td>\n",
       "      <td>46.5</td>\n",
       "      <td>1.159</td>\n",
       "      <td>58</td>\n",
       "      <td>0</td>\n",
       "    </tr>\n",
       "    <tr>\n",
       "      <th>4</th>\n",
       "      <td>2</td>\n",
       "      <td>83</td>\n",
       "      <td>65</td>\n",
       "      <td>28</td>\n",
       "      <td>66</td>\n",
       "      <td>36.8</td>\n",
       "      <td>0.629</td>\n",
       "      <td>24</td>\n",
       "      <td>0</td>\n",
       "    </tr>\n",
       "  </tbody>\n",
       "</table>\n",
       "</div>"
      ],
      "text/plain": [
       "   Pregnancies  Glucose  BloodPressure  SkinThickness  Insulin   BMI  \\\n",
       "0            0       84             82             31      125  38.2   \n",
       "1            0      135             68             42      250  42.3   \n",
       "2            1      139             62             41      480  40.7   \n",
       "3            0      173             78             32      265  46.5   \n",
       "4            2       83             65             28       66  36.8   \n",
       "\n",
       "   DiabetesPedigreeFunction  Age  Outcome  \n",
       "0                     0.233   23        0  \n",
       "1                     0.365   24        1  \n",
       "2                     0.536   21        0  \n",
       "3                     1.159   58        0  \n",
       "4                     0.629   24        0  "
      ]
     },
     "execution_count": 3,
     "metadata": {},
     "output_type": "execute_result"
    }
   ],
   "source": [
    "df = pd.read_csv('./diabetes dataset.csv')\n",
    "df.head(5)"
   ]
  },
  {
   "cell_type": "markdown",
   "metadata": {},
   "source": [
    "outcome - 1 means the person has diabetes and 0 means the person doesn't have diabetes."
   ]
  },
  {
   "cell_type": "code",
   "execution_count": 4,
   "metadata": {},
   "outputs": [
    {
     "name": "stdout",
     "output_type": "stream",
     "text": [
      "<class 'pandas.core.frame.DataFrame'>\n",
      "RangeIndex: 1032 entries, 0 to 1031\n",
      "Data columns (total 9 columns):\n",
      " #   Column                    Non-Null Count  Dtype  \n",
      "---  ------                    --------------  -----  \n",
      " 0   Pregnancies               1032 non-null   int64  \n",
      " 1   Glucose                   1032 non-null   int64  \n",
      " 2   BloodPressure             1032 non-null   int64  \n",
      " 3   SkinThickness             1032 non-null   int64  \n",
      " 4   Insulin                   1032 non-null   int64  \n",
      " 5   BMI                       1032 non-null   float64\n",
      " 6   DiabetesPedigreeFunction  1032 non-null   float64\n",
      " 7   Age                       1032 non-null   int64  \n",
      " 8   Outcome                   1032 non-null   int64  \n",
      "dtypes: float64(2), int64(7)\n",
      "memory usage: 72.7 KB\n"
     ]
    }
   ],
   "source": [
    "df.info()"
   ]
  },
  {
   "cell_type": "code",
   "execution_count": 5,
   "metadata": {},
   "outputs": [
    {
     "data": {
      "text/html": [
       "<div>\n",
       "<style scoped>\n",
       "    .dataframe tbody tr th:only-of-type {\n",
       "        vertical-align: middle;\n",
       "    }\n",
       "\n",
       "    .dataframe tbody tr th {\n",
       "        vertical-align: top;\n",
       "    }\n",
       "\n",
       "    .dataframe thead th {\n",
       "        text-align: right;\n",
       "    }\n",
       "</style>\n",
       "<table border=\"1\" class=\"dataframe\">\n",
       "  <thead>\n",
       "    <tr style=\"text-align: right;\">\n",
       "      <th></th>\n",
       "      <th>Pregnancies</th>\n",
       "      <th>Glucose</th>\n",
       "      <th>BloodPressure</th>\n",
       "      <th>SkinThickness</th>\n",
       "      <th>Insulin</th>\n",
       "      <th>BMI</th>\n",
       "      <th>DiabetesPedigreeFunction</th>\n",
       "      <th>Age</th>\n",
       "      <th>Outcome</th>\n",
       "    </tr>\n",
       "  </thead>\n",
       "  <tbody>\n",
       "    <tr>\n",
       "      <th>count</th>\n",
       "      <td>1032.000000</td>\n",
       "      <td>1032.000000</td>\n",
       "      <td>1032.000000</td>\n",
       "      <td>1032.000000</td>\n",
       "      <td>1032.000000</td>\n",
       "      <td>1032.000000</td>\n",
       "      <td>1032.000000</td>\n",
       "      <td>1032.000000</td>\n",
       "      <td>1032.000000</td>\n",
       "    </tr>\n",
       "    <tr>\n",
       "      <th>mean</th>\n",
       "      <td>3.188953</td>\n",
       "      <td>122.836240</td>\n",
       "      <td>70.835271</td>\n",
       "      <td>29.290698</td>\n",
       "      <td>153.987403</td>\n",
       "      <td>33.306202</td>\n",
       "      <td>0.524103</td>\n",
       "      <td>30.669574</td>\n",
       "      <td>0.326550</td>\n",
       "    </tr>\n",
       "    <tr>\n",
       "      <th>std</th>\n",
       "      <td>3.171489</td>\n",
       "      <td>30.698233</td>\n",
       "      <td>12.340466</td>\n",
       "      <td>10.562492</td>\n",
       "      <td>111.648614</td>\n",
       "      <td>7.108168</td>\n",
       "      <td>0.331945</td>\n",
       "      <td>10.061803</td>\n",
       "      <td>0.469179</td>\n",
       "    </tr>\n",
       "    <tr>\n",
       "      <th>min</th>\n",
       "      <td>0.000000</td>\n",
       "      <td>56.000000</td>\n",
       "      <td>24.000000</td>\n",
       "      <td>7.000000</td>\n",
       "      <td>14.000000</td>\n",
       "      <td>18.200000</td>\n",
       "      <td>0.085000</td>\n",
       "      <td>21.000000</td>\n",
       "      <td>0.000000</td>\n",
       "    </tr>\n",
       "    <tr>\n",
       "      <th>25%</th>\n",
       "      <td>1.000000</td>\n",
       "      <td>99.000000</td>\n",
       "      <td>62.000000</td>\n",
       "      <td>21.000000</td>\n",
       "      <td>76.000000</td>\n",
       "      <td>28.475000</td>\n",
       "      <td>0.283000</td>\n",
       "      <td>23.000000</td>\n",
       "      <td>0.000000</td>\n",
       "    </tr>\n",
       "    <tr>\n",
       "      <th>50%</th>\n",
       "      <td>2.000000</td>\n",
       "      <td>120.000000</td>\n",
       "      <td>71.000000</td>\n",
       "      <td>29.000000</td>\n",
       "      <td>126.000000</td>\n",
       "      <td>33.300000</td>\n",
       "      <td>0.453000</td>\n",
       "      <td>27.000000</td>\n",
       "      <td>0.000000</td>\n",
       "    </tr>\n",
       "    <tr>\n",
       "      <th>75%</th>\n",
       "      <td>5.000000</td>\n",
       "      <td>143.250000</td>\n",
       "      <td>78.000000</td>\n",
       "      <td>37.000000</td>\n",
       "      <td>190.000000</td>\n",
       "      <td>37.425000</td>\n",
       "      <td>0.687000</td>\n",
       "      <td>36.000000</td>\n",
       "      <td>1.000000</td>\n",
       "    </tr>\n",
       "    <tr>\n",
       "      <th>max</th>\n",
       "      <td>17.000000</td>\n",
       "      <td>198.000000</td>\n",
       "      <td>110.000000</td>\n",
       "      <td>63.000000</td>\n",
       "      <td>744.000000</td>\n",
       "      <td>67.100000</td>\n",
       "      <td>2.420000</td>\n",
       "      <td>81.000000</td>\n",
       "      <td>1.000000</td>\n",
       "    </tr>\n",
       "  </tbody>\n",
       "</table>\n",
       "</div>"
      ],
      "text/plain": [
       "       Pregnancies      Glucose  BloodPressure  SkinThickness      Insulin  \\\n",
       "count  1032.000000  1032.000000    1032.000000    1032.000000  1032.000000   \n",
       "mean      3.188953   122.836240      70.835271      29.290698   153.987403   \n",
       "std       3.171489    30.698233      12.340466      10.562492   111.648614   \n",
       "min       0.000000    56.000000      24.000000       7.000000    14.000000   \n",
       "25%       1.000000    99.000000      62.000000      21.000000    76.000000   \n",
       "50%       2.000000   120.000000      71.000000      29.000000   126.000000   \n",
       "75%       5.000000   143.250000      78.000000      37.000000   190.000000   \n",
       "max      17.000000   198.000000     110.000000      63.000000   744.000000   \n",
       "\n",
       "               BMI  DiabetesPedigreeFunction          Age      Outcome  \n",
       "count  1032.000000               1032.000000  1032.000000  1032.000000  \n",
       "mean     33.306202                  0.524103    30.669574     0.326550  \n",
       "std       7.108168                  0.331945    10.061803     0.469179  \n",
       "min      18.200000                  0.085000    21.000000     0.000000  \n",
       "25%      28.475000                  0.283000    23.000000     0.000000  \n",
       "50%      33.300000                  0.453000    27.000000     0.000000  \n",
       "75%      37.425000                  0.687000    36.000000     1.000000  \n",
       "max      67.100000                  2.420000    81.000000     1.000000  "
      ]
     },
     "execution_count": 5,
     "metadata": {},
     "output_type": "execute_result"
    }
   ],
   "source": [
    "df.describe()"
   ]
  },
  {
   "cell_type": "code",
   "execution_count": 6,
   "metadata": {},
   "outputs": [
    {
     "data": {
      "text/html": [
       "<div>\n",
       "<style scoped>\n",
       "    .dataframe tbody tr th:only-of-type {\n",
       "        vertical-align: middle;\n",
       "    }\n",
       "\n",
       "    .dataframe tbody tr th {\n",
       "        vertical-align: top;\n",
       "    }\n",
       "\n",
       "    .dataframe thead th {\n",
       "        text-align: right;\n",
       "    }\n",
       "</style>\n",
       "<table border=\"1\" class=\"dataframe\">\n",
       "  <thead>\n",
       "    <tr style=\"text-align: right;\">\n",
       "      <th></th>\n",
       "      <th>Pregnancies</th>\n",
       "      <th>Glucose</th>\n",
       "      <th>BloodPressure</th>\n",
       "      <th>SkinThickness</th>\n",
       "      <th>Insulin</th>\n",
       "      <th>BMI</th>\n",
       "      <th>DiabetesPedigreeFunction</th>\n",
       "      <th>Age</th>\n",
       "      <th>Outcome</th>\n",
       "    </tr>\n",
       "  </thead>\n",
       "  <tbody>\n",
       "    <tr>\n",
       "      <th>707</th>\n",
       "      <td>1</td>\n",
       "      <td>96</td>\n",
       "      <td>64</td>\n",
       "      <td>27</td>\n",
       "      <td>87</td>\n",
       "      <td>33.2</td>\n",
       "      <td>0.289</td>\n",
       "      <td>21</td>\n",
       "      <td>0</td>\n",
       "    </tr>\n",
       "    <tr>\n",
       "      <th>151</th>\n",
       "      <td>0</td>\n",
       "      <td>137</td>\n",
       "      <td>68</td>\n",
       "      <td>14</td>\n",
       "      <td>148</td>\n",
       "      <td>24.8</td>\n",
       "      <td>0.143</td>\n",
       "      <td>21</td>\n",
       "      <td>0</td>\n",
       "    </tr>\n",
       "    <tr>\n",
       "      <th>292</th>\n",
       "      <td>1</td>\n",
       "      <td>99</td>\n",
       "      <td>72</td>\n",
       "      <td>30</td>\n",
       "      <td>18</td>\n",
       "      <td>38.6</td>\n",
       "      <td>0.412</td>\n",
       "      <td>21</td>\n",
       "      <td>0</td>\n",
       "    </tr>\n",
       "    <tr>\n",
       "      <th>799</th>\n",
       "      <td>1</td>\n",
       "      <td>139</td>\n",
       "      <td>62</td>\n",
       "      <td>41</td>\n",
       "      <td>480</td>\n",
       "      <td>40.7</td>\n",
       "      <td>0.536</td>\n",
       "      <td>21</td>\n",
       "      <td>0</td>\n",
       "    </tr>\n",
       "    <tr>\n",
       "      <th>139</th>\n",
       "      <td>0</td>\n",
       "      <td>78</td>\n",
       "      <td>88</td>\n",
       "      <td>29</td>\n",
       "      <td>40</td>\n",
       "      <td>36.9</td>\n",
       "      <td>0.434</td>\n",
       "      <td>21</td>\n",
       "      <td>0</td>\n",
       "    </tr>\n",
       "  </tbody>\n",
       "</table>\n",
       "</div>"
      ],
      "text/plain": [
       "     Pregnancies  Glucose  BloodPressure  SkinThickness  Insulin   BMI  \\\n",
       "707            1       96             64             27       87  33.2   \n",
       "151            0      137             68             14      148  24.8   \n",
       "292            1       99             72             30       18  38.6   \n",
       "799            1      139             62             41      480  40.7   \n",
       "139            0       78             88             29       40  36.9   \n",
       "\n",
       "     DiabetesPedigreeFunction  Age  Outcome  \n",
       "707                     0.289   21        0  \n",
       "151                     0.143   21        0  \n",
       "292                     0.412   21        0  \n",
       "799                     0.536   21        0  \n",
       "139                     0.434   21        0  "
      ]
     },
     "execution_count": 6,
     "metadata": {},
     "output_type": "execute_result"
    }
   ],
   "source": [
    "dataframe = df.sort_values(by = 'Age')\n",
    "dataframe.head(5)"
   ]
  },
  {
   "cell_type": "code",
   "execution_count": 10,
   "metadata": {
    "scrolled": false
   },
   "outputs": [
    {
     "data": {
      "image/png": "[encoded data removed]",
      "text/plain": [
       "<Figure size 432x288 with 1 Axes>"
      ]
     },
     "metadata": {
      "needs_background": "light"
     },
     "output_type": "display_data"
    }
   ],
   "source": [
    "x = dataframe.Glucose\n",
    "y = dataframe.Insulin\n",
    "plt.xlabel(\"Glucose\")\n",
    "plt.ylabel(\"Insulin\")\n",
    "plt.scatter(x, y)\n",
    "plt.show()"
   ]
  },
  {
   "cell_type": "code",
   "execution_count": 11,
   "metadata": {},
   "outputs": [
    {
     "data": {
      "image/png": "[encoded data removed]",
      "text/plain": [
       "<Figure size 432x288 with 1 Axes>"
      ]
     },
     "metadata": {
      "needs_background": "light"
     },
     "output_type": "display_data"
    }
   ],
   "source": [
    "x = dataframe.Age\n",
    "y_1 = dataframe.Glucose\n",
    "y_2 = dataframe.Insulin\n",
    "\n",
    "plt.plot(x, y_1, label = \"Glucose\")\n",
    "plt.plot(x, y_2, label = \"Insulin\")\n",
    "\n",
    "plt.xlabel('Age')\n",
    "plt.legend()\n",
    "plt.show()"
   ]
  },
  {
   "cell_type": "code",
   "execution_count": 12,
   "metadata": {},
   "outputs": [
    {
     "data": {
      "image/png": "[encoded data removed]",
      "text/plain": [
       "<Figure size 432x288 with 1 Axes>"
      ]
     },
     "metadata": {
      "needs_background": "light"
     },
     "output_type": "display_data"
    }
   ],
   "source": [
    "x = dataframe.Age\n",
    "y = dataframe.Glucose \n",
    "plt.xlabel(\"Age\")\n",
    "plt.ylabel(\"Glucose\")\n",
    "plt.scatter(x, y)\n",
    "plt.show()"
   ]
  },
  {
   "cell_type": "code",
   "execution_count": 13,
   "metadata": {},
   "outputs": [
    {
     "data": {
      "image/png": "[encoded data removed]",
      "text/plain": [
       "<Figure size 432x288 with 1 Axes>"
      ]
     },
     "metadata": {
      "needs_background": "light"
     },
     "output_type": "display_data"
    }
   ],
   "source": [
    "x = dataframe.Age\n",
    "y = dataframe.Insulin \n",
    "plt.xlabel(\"Age\")\n",
    "plt.ylabel(\"Insulin\")\n",
    "plt.plot(x, y)\n",
    "plt.show()"
   ]
  },
  {
   "cell_type": "code",
   "execution_count": 10,
   "metadata": {},
   "outputs": [
    {
     "data": {
      "image/png": "[encoded data removed]",
      "text/plain": [
       "<Figure size 432x288 with 1 Axes>"
      ]
     },
     "metadata": {
      "needs_background": "light"
     },
     "output_type": "display_data"
    }
   ],
   "source": [
    "x = dataframe.Age\n",
    "y = dataframe.Pregnancies \n",
    "\n",
    "plt.plot(x, y)\n",
    "plt.show()"
   ]
  },
  {
   "cell_type": "code",
   "execution_count": 11,
   "metadata": {},
   "outputs": [
    {
     "data": {
      "image/png": "[encoded data removed]",
      "text/plain": [
       "<Figure size 432x288 with 1 Axes>"
      ]
     },
     "metadata": {
      "needs_background": "light"
     },
     "output_type": "display_data"
    }
   ],
   "source": [
    "x = dataframe.Age\n",
    "y = dataframe.BloodPressure\n",
    "\n",
    "plt.scatter(x, y)\n",
    "plt.show()"
   ]
  },
  {
   "cell_type": "code",
   "execution_count": 14,
   "metadata": {},
   "outputs": [
    {
     "data": {
      "image/png": "[encoded data removed]",
      "text/plain": [
       "<Figure size 432x288 with 1 Axes>"
      ]
     },
     "metadata": {
      "needs_background": "light"
     },
     "output_type": "display_data"
    }
   ],
   "source": [
    "x = dataframe.Age\n",
    "y = dataframe.BMI\n",
    "plt.xlabel(\"Age\")\n",
    "plt.ylabel(\"BMI\")\n",
    "plt.plot(x, y)\n",
    "plt.show()"
   ]
  },
  {
   "cell_type": "code",
   "execution_count": 15,
   "metadata": {},
   "outputs": [
    {
     "data": {
      "image/png": "[encoded data removed]",
      "text/plain": [
       "<Figure size 432x288 with 1 Axes>"
      ]
     },
     "metadata": {
      "needs_background": "light"
     },
     "output_type": "display_data"
    }
   ],
   "source": [
    "y = dataframe.Age\n",
    "plt.xlabel('Age')\n",
    "plt.ylabel('No of people')\n",
    "plt.hist(x, bins = 5, range = (20, 80) )\n",
    "\n",
    "plt.show()"
   ]
  },
  {
   "cell_type": "code",
   "execution_count": 14,
   "metadata": {},
   "outputs": [],
   "source": [
    "from sklearn.preprocessing import StandardScaler\n",
    "from keras.models import Sequential\n",
    "from keras.layers import Dense\n",
    "from sklearn.model_selection import train_test_split"
   ]
  },
  {
   "cell_type": "code",
   "execution_count": 15,
   "metadata": {},
   "outputs": [
    {
     "name": "stdout",
     "output_type": "stream",
     "text": [
      "[[1. 0.]\n",
      " [0. 1.]\n",
      " [1. 0.]\n",
      " ...\n",
      " [0. 1.]\n",
      " [0. 1.]\n",
      " [1. 0.]]\n"
     ]
    }
   ],
   "source": [
    "from keras.utils import to_categorical\n",
    "y_values = df['Outcome']\n",
    "\n",
    "y_values = to_categorical(y_values)\n",
    "\n",
    "print(y_values)"
   ]
  },
  {
   "cell_type": "code",
   "execution_count": 16,
   "metadata": {
    "scrolled": true
   },
   "outputs": [
    {
     "name": "stdout",
     "output_type": "stream",
     "text": [
      "   Glucose  BloodPressure  Insulin   BMI  Age  DiabetesPedigreeFunction  \\\n",
      "0       84             82      125  38.2   23                     0.233   \n",
      "1      135             68      250  42.3   24                     0.365   \n",
      "2      139             62      480  40.7   21                     0.536   \n",
      "3      173             78      265  46.5   58                     1.159   \n",
      "4       83             65       66  36.8   24                     0.629   \n",
      "\n",
      "   SkinThickness  Pregnancies  \n",
      "0             31            0  \n",
      "1             42            0  \n",
      "2             41            1  \n",
      "3             32            0  \n",
      "4             28            2  \n",
      "Number of rows in x_train: 774\n",
      "Number of rows in x_test: 258\n",
      "Number of rows in y_train: 774\n",
      "Number of rows in y_test: 258\n"
     ]
    }
   ],
   "source": [
    "x_values = df[['Glucose', 'BloodPressure', 'Insulin', 'BMI', 'Age', 'DiabetesPedigreeFunction', 'SkinThickness', 'Pregnancies']]\n",
    "print(x_values.head())\n",
    "x_train, x_test, y_train, y_test = train_test_split(x_values,y_values,test_size=0.25,random_state=10)\n",
    "print(\"Number of rows in x_train:\", x_train.shape[0])\n",
    "print(\"Number of rows in x_test:\", x_test.shape[0])\n",
    "print(\"Number of rows in y_train:\", y_train.shape[0])\n",
    "print(\"Number of rows in y_test:\", y_test.shape[0])\n",
    "\n",
    "standardise = StandardScaler() \n",
    "x_train = standardise.fit_transform(x_train)\n",
    "x_test = standardise.transform(x_test)"
   ]
  },
  {
   "cell_type": "code",
   "execution_count": 17,
   "metadata": {},
   "outputs": [
    {
     "name": "stdout",
     "output_type": "stream",
     "text": [
      "           Glucose  BloodPressure      Insulin          BMI          Age  \\\n",
      "count  1032.000000    1032.000000  1032.000000  1032.000000  1032.000000   \n",
      "mean    122.836240      70.835271   153.987403    33.306202    30.669574   \n",
      "std      30.698233      12.340466   111.648614     7.108168    10.061803   \n",
      "min      56.000000      24.000000    14.000000    18.200000    21.000000   \n",
      "25%      99.000000      62.000000    76.000000    28.475000    23.000000   \n",
      "50%     120.000000      71.000000   126.000000    33.300000    27.000000   \n",
      "75%     143.250000      78.000000   190.000000    37.425000    36.000000   \n",
      "max     198.000000     110.000000   744.000000    67.100000    81.000000   \n",
      "\n",
      "       DiabetesPedigreeFunction  SkinThickness  Pregnancies  \n",
      "count               1032.000000    1032.000000  1032.000000  \n",
      "mean                   0.524103      29.290698     3.188953  \n",
      "std                    0.331945      10.562492     3.171489  \n",
      "min                    0.085000       7.000000     0.000000  \n",
      "25%                    0.283000      21.000000     1.000000  \n",
      "50%                    0.453000      29.000000     2.000000  \n",
      "75%                    0.687000      37.000000     5.000000  \n",
      "max                    2.420000      63.000000    17.000000  \n"
     ]
    }
   ],
   "source": [
    "print(x_values.describe())"
   ]
  },
  {
   "cell_type": "code",
   "execution_count": 18,
   "metadata": {},
   "outputs": [],
   "source": [
    "model = Sequential()\n",
    "model.add(Dense(8,input_dim=8,activation='relu'))\n",
    "\n",
    "model.add(Dense(8,activation='relu'))\n",
    "model.add(Dense(8,activation='relu'))\n",
    "\n",
    "model.add(Dense(2,activation='softmax'))\n",
    "model.compile(optimizer='adam',loss='categorical_crossentropy',metrics=['accuracy'])"
   ]
  },
  {
   "cell_type": "code",
   "execution_count": 19,
   "metadata": {},
   "outputs": [
    {
     "name": "stdout",
     "output_type": "stream",
     "text": [
      "Model: \"sequential\"\n",
      "_________________________________________________________________\n",
      "Layer (type)                 Output Shape              Param #   \n",
      "=================================================================\n",
      "dense (Dense)                (None, 8)                 72        \n",
      "_________________________________________________________________\n",
      "dense_1 (Dense)              (None, 8)                 72        \n",
      "_________________________________________________________________\n",
      "dense_2 (Dense)              (None, 8)                 72        \n",
      "_________________________________________________________________\n",
      "dense_3 (Dense)              (None, 2)                 18        \n",
      "=================================================================\n",
      "Total params: 234\n",
      "Trainable params: 234\n",
      "Non-trainable params: 0\n",
      "_________________________________________________________________\n"
     ]
    }
   ],
   "source": [
    "model.summary()"
   ]
  },
  {
   "cell_type": "code",
   "execution_count": 20,
   "metadata": {
    "scrolled": false
   },
   "outputs": [
    {
     "name": "stdout",
     "output_type": "stream",
     "text": [
      "Epoch 1/20\n",
      "25/25 [==============================] - 2s 59ms/step - loss: 0.6512 - accuracy: 0.6961 - val_loss: 0.6073 - val_accuracy: 0.7481\n",
      "Epoch 2/20\n",
      "25/25 [==============================] - 0s 3ms/step - loss: 0.6205 - accuracy: 0.6824 - val_loss: 0.5707 - val_accuracy: 0.7403\n",
      "Epoch 3/20\n",
      "25/25 [==============================] - 0s 3ms/step - loss: 0.5688 - accuracy: 0.7220 - val_loss: 0.5325 - val_accuracy: 0.7442\n",
      "Epoch 4/20\n",
      "25/25 [==============================] - 0s 3ms/step - loss: 0.5369 - accuracy: 0.7157 - val_loss: 0.5015 - val_accuracy: 0.7519\n",
      "Epoch 5/20\n",
      "25/25 [==============================] - 0s 3ms/step - loss: 0.4933 - accuracy: 0.7670 - val_loss: 0.4766 - val_accuracy: 0.7791\n",
      "Epoch 6/20\n",
      "25/25 [==============================] - 0s 3ms/step - loss: 0.4919 - accuracy: 0.7540 - val_loss: 0.4588 - val_accuracy: 0.7752\n",
      "Epoch 7/20\n",
      "25/25 [==============================] - 0s 3ms/step - loss: 0.4882 - accuracy: 0.7607 - val_loss: 0.4450 - val_accuracy: 0.7674\n",
      "Epoch 8/20\n",
      "25/25 [==============================] - 0s 3ms/step - loss: 0.4613 - accuracy: 0.7845 - val_loss: 0.4361 - val_accuracy: 0.7713\n",
      "Epoch 9/20\n",
      "25/25 [==============================] - 0s 3ms/step - loss: 0.4395 - accuracy: 0.7740 - val_loss: 0.4313 - val_accuracy: 0.7752\n",
      "Epoch 10/20\n",
      "25/25 [==============================] - 0s 3ms/step - loss: 0.4681 - accuracy: 0.7933 - val_loss: 0.4252 - val_accuracy: 0.7752\n",
      "Epoch 11/20\n",
      "25/25 [==============================] - 0s 3ms/step - loss: 0.4474 - accuracy: 0.7843 - val_loss: 0.4206 - val_accuracy: 0.7713\n",
      "Epoch 12/20\n",
      "25/25 [==============================] - 0s 3ms/step - loss: 0.4368 - accuracy: 0.7880 - val_loss: 0.4168 - val_accuracy: 0.7829\n",
      "Epoch 13/20\n",
      "25/25 [==============================] - 0s 3ms/step - loss: 0.4304 - accuracy: 0.7849 - val_loss: 0.4133 - val_accuracy: 0.7791\n",
      "Epoch 14/20\n",
      "25/25 [==============================] - 0s 3ms/step - loss: 0.4236 - accuracy: 0.7901 - val_loss: 0.4103 - val_accuracy: 0.7752\n",
      "Epoch 15/20\n",
      "25/25 [==============================] - 0s 3ms/step - loss: 0.4449 - accuracy: 0.7694 - val_loss: 0.4072 - val_accuracy: 0.7868\n",
      "Epoch 16/20\n",
      "25/25 [==============================] - 0s 3ms/step - loss: 0.4013 - accuracy: 0.7988 - val_loss: 0.4041 - val_accuracy: 0.7713\n",
      "Epoch 17/20\n",
      "25/25 [==============================] - 0s 3ms/step - loss: 0.4425 - accuracy: 0.7745 - val_loss: 0.4013 - val_accuracy: 0.7829\n",
      "Epoch 18/20\n",
      "25/25 [==============================] - 0s 3ms/step - loss: 0.4150 - accuracy: 0.7872 - val_loss: 0.3989 - val_accuracy: 0.7868\n",
      "Epoch 19/20\n",
      "25/25 [==============================] - 0s 3ms/step - loss: 0.4146 - accuracy: 0.7943 - val_loss: 0.3959 - val_accuracy: 0.7868\n",
      "Epoch 20/20\n",
      "25/25 [==============================] - 0s 3ms/step - loss: 0.3918 - accuracy: 0.8064 - val_loss: 0.3942 - val_accuracy: 0.7984\n"
     ]
    },
    {
     "data": {
      "text/plain": [
       "<tensorflow.python.keras.callbacks.History at 0x9566702880>"
      ]
     },
     "execution_count": 20,
     "metadata": {},
     "output_type": "execute_result"
    }
   ],
   "source": [
    "model.fit(x_train,y_train,epochs=20,shuffle=True,validation_data=(x_test,y_test))"
   ]
  },
  {
   "cell_type": "code",
   "execution_count": 21,
   "metadata": {},
   "outputs": [
    {
     "name": "stdout",
     "output_type": "stream",
     "text": [
      "[[9.8056799e-01 1.9431969e-02]\n",
      " [8.6660743e-02 9.1333926e-01]\n",
      " [9.9971336e-01 2.8658783e-04]\n",
      " ...\n",
      " [9.9587774e-01 4.1222810e-03]\n",
      " [9.9648547e-01 3.5145399e-03]\n",
      " [9.9837035e-01 1.6297154e-03]]\n",
      "[0, 1, 0, 0, 0, 0, 0, 0, 0, 0, 0, 0, 0, 0, 1, 0, 0, 0, 0, 0, 0, 0, 0, 0, 1, 0, 1, 0, 0, 0, 0, 0, 0, 0, 1, 0, 0, 0, 0, 0, 0, 0, 1, 0, 0, 1, 0, 0, 0, 0, 0, 0, 0, 0, 0, 0, 0, 0, 0, 0, 0, 0, 0, 1, 0, 0, 0, 0, 0, 0, 0, 1, 0, 0, 0, 0, 0, 0, 0, 1, 0, 0, 0, 0, 0, 0, 0, 0, 0, 0, 0, 0, 0, 0, 0, 0, 0, 0, 0, 1, 0, 0, 0, 1, 0, 0, 0, 0, 0, 0, 0, 0, 1, 0, 0, 0, 0, 0, 0, 0, 0, 0, 1, 0, 0, 0, 0, 0, 0, 0, 0, 0, 0, 0, 0, 0, 1, 0, 0, 0, 0, 0, 1, 0, 0, 0, 0, 0, 0, 0, 0, 0, 0, 1, 0, 0, 0, 0, 0, 0, 1, 0, 0, 0, 0, 0, 0, 0, 1, 0, 0, 0, 0, 0, 0, 0, 0, 0, 1, 0, 1, 0, 0, 0, 0, 0, 0, 0, 1, 0, 0, 0, 0, 0, 0, 0, 0, 1, 0, 0, 0, 0, 0, 0, 0, 1, 0, 0, 1, 0, 0, 0, 0, 0, 0, 0, 0, 1, 0, 0, 0, 0, 0, 0, 0, 0, 0, 0, 0, 0, 0, 1, 0, 0, 0, 0, 0, 0, 0, 0, 0, 0, 0, 0, 0, 1, 0, 0, 1, 0, 0, 0, 0, 0, 0, 0, 0, 0, 0, 0, 0, 1, 0, 0, 0, 1, 0, 0, 0, 0, 1, 0, 0, 0, 0, 0, 1, 0, 0, 0, 0, 0, 0, 0, 0, 0, 0, 1, 1, 0, 0, 0, 0, 0, 0, 0, 0, 0, 1, 0, 0, 0, 0, 0, 0, 1, 0, 0, 0, 0, 1, 0, 1, 0, 0, 0, 1, 0, 0, 0, 0, 0, 0, 0, 0, 0, 0, 0, 0, 0, 0, 0, 0, 0, 0, 0, 0, 0, 0, 0, 0, 0, 0, 0, 0, 0, 0, 0, 1, 0, 0, 0, 0, 0, 0, 0, 0, 0, 0, 0, 0, 0, 0, 0, 0, 0, 0, 0, 0, 1, 1, 0, 0, 0, 0, 0, 0, 0, 0, 0, 0, 0, 0, 0, 0, 0, 0, 0, 0, 0, 0, 0, 0, 0, 0, 0, 0, 0, 0, 1, 0, 0, 0, 0, 0, 0, 1, 0, 0, 0, 0, 0, 0, 0, 1, 0, 0, 0, 0, 0, 0, 0, 0, 0, 1, 0, 1, 0, 0, 0, 0, 0, 0, 0, 1, 0, 0, 0, 0, 0, 0, 0, 0, 1, 0, 0, 0, 0, 0, 0, 0, 1, 0, 0, 1, 0, 0, 0, 0, 0, 0, 0, 0, 1, 0, 0, 0, 0, 0, 0, 0, 0, 0, 0, 0, 0, 0, 1, 0, 0, 0, 0, 0, 0, 0, 0, 0, 0, 0, 0, 0, 1, 0, 0, 1, 0, 0, 0, 0, 0, 0, 0, 0, 0, 0, 0, 0, 1, 0, 0, 0, 0, 0, 0, 0, 0, 1, 0, 0, 0, 0, 0, 0, 0, 0, 0, 0, 1, 1, 0, 0, 0, 0, 0, 0, 0, 0, 0, 1, 0, 0, 0, 0, 0, 0, 1, 0, 0, 0, 0, 1, 0, 1, 0, 0, 0, 1, 0, 0, 0, 0, 0, 0, 0, 0, 0, 0, 0, 0, 0, 0, 0, 0, 0, 0, 0, 0, 0, 0, 0, 0, 0, 0, 0, 0, 0, 0, 0, 1, 0, 0, 0, 0, 0, 0, 0, 0, 0, 0, 0, 0, 0, 0, 0, 0, 0, 0, 0, 0, 1, 1, 0, 0, 0, 0, 0, 0, 0, 0, 0, 0, 0, 0, 0, 0, 0, 0, 0, 0, 0, 0, 0, 0, 0, 0, 0, 0, 0, 0, 1, 0, 0, 0, 0, 0, 0, 1, 0, 0, 0, 0, 0, 1, 0, 0, 0, 0, 0, 0, 0, 0, 0, 0, 0, 0, 0, 0, 0, 0, 0, 1, 0, 0, 0, 0, 0, 0, 0, 1, 0, 0, 0, 0, 0, 0, 0, 1, 0, 0, 0, 0, 0, 0, 0, 0, 0, 0, 0, 0, 0, 0, 0, 0, 0, 0, 0, 1, 0, 0, 0, 1, 0, 0, 0, 0, 0, 0, 0, 0, 1, 0, 0, 0, 0, 0, 0, 0, 0, 0, 1, 0, 0, 0, 0, 0, 0, 0, 0, 0, 0, 0, 0, 0, 1, 0, 0, 0, 0, 0, 1, 0, 0, 0, 0, 0, 1, 0, 0, 1, 0, 0, 0, 0, 0, 0, 0, 0, 1, 0, 0, 0, 0, 0, 0, 0, 0, 0, 0, 0, 0, 0, 1, 0, 0, 0, 0, 0, 0, 0, 0, 0, 0, 0, 0, 0, 1, 0, 0, 1, 0, 0, 0, 0, 0, 0, 0, 0, 0, 1, 0, 0, 0, 0, 0, 0, 0, 0, 0, 0, 0, 1, 0, 0, 0, 0, 0, 0, 0, 0, 0, 0, 0, 1, 0, 1, 0, 0, 0, 0, 0, 0, 0, 1, 0, 0, 0, 0, 0, 0, 0, 0, 1, 0, 0, 0, 0, 0, 0, 0, 1, 0, 0, 1, 0, 0, 0, 0, 0, 0, 0, 0, 1, 0, 0, 0, 0, 0, 0, 0, 1, 0, 1, 0, 0, 0, 1, 0, 0, 0, 0, 0, 0, 0, 0, 0, 0, 0, 0, 0, 0, 0, 0, 0, 0, 0, 0, 0, 0, 0, 0, 0, 0, 0, 0, 0, 0, 0, 1, 0, 0, 0, 0, 0, 0, 0, 0, 0, 0, 0, 0, 0, 0, 0, 0, 0, 0, 0, 0, 1, 1, 0, 0, 0, 0, 0, 0, 0, 0, 0, 0, 0, 0, 0, 0, 0, 0, 0, 0, 0, 0, 0, 0, 0, 0, 0, 0, 0, 0, 1, 0, 1, 0, 0, 0, 0, 0, 0, 0, 1, 0, 0, 0, 0, 0, 0, 0, 1, 0, 0, 1, 0, 0, 0, 0, 0, 0, 0, 0, 0, 0, 0, 0, 0, 0, 0, 0, 0, 1, 0, 0, 0, 0, 0, 0, 0, 1, 0, 0, 0, 0, 0, 0, 0, 1, 0, 0, 0, 0, 0, 0, 0, 0]\n"
     ]
    }
   ],
   "source": [
    "x = df[['Pregnancies','Glucose','SkinThickness','Insulin','BMI', 'DiabetesPedigreeFunction', 'Age', 'BloodPressure']]\n",
    "x_scale = standardise.transform(x)\n",
    "y_predict = model.predict(x_scale)\n",
    "print(y_predict)\n",
    "Outcome = []\n",
    "for i in range(0,y_predict.shape[0]):\n",
    "    Outcome.append(np.argmax(y_predict[i , :]))\n",
    "print(Outcome)"
   ]
  },
  {
   "cell_type": "code",
   "execution_count": null,
   "metadata": {},
   "outputs": [
    {
     "name": "stdout",
     "output_type": "stream",
     "text": [
      "Enter the following information to check if you have diabetes or not\n"
     ]
    }
   ],
   "source": [
    "print('Enter the following information to check if you have diabetes or not')\n",
    "test = pd.DataFrame()\n",
    "test['Glucose'] = [float(input('Plasma glucose concentration '))]\n",
    "test['Age'] = [float(input('Age (years) - '))]\n",
    "test['Pregnancies'] = [float(input('Number of times pregnant - '))]\n",
    "test['BMI'] = [float(input('Body mass index (weight in kg/(height in m)^2) - '))]\n",
    "test['Insulin'] = [float(input('2-Hour serum insulin (mu U/ml) - '))]\n",
    "test['DiabetesPedigreeFunction'] = [float(input('Diabetes pedigree function - '))]\n",
    "test['BloodPressure'] = [float(input('Diastolic blood pressure (mm Hg) - '))]\n",
    "test['SkinThickness'] = [float(input('Triceps skin fold thickness (mm) - '))]\n",
    "test = standardise.transform(test)\n",
    "prediction = model.predict(test).argmax()\n",
    "if prediction == 0:\n",
    "    print(\"Congrats! You don't have Diabtetes\")\n",
    "elif prediction == 1:\n",
    "    print(\"You have Diabetes\")"
   ]
  },
  {
   "cell_type": "code",
   "execution_count": null,
   "metadata": {},
   "outputs": [],
   "source": []
  }
 ],
 "metadata": {
  "kernelspec": {
   "display_name": "Python 3",
   "language": "python",
   "name": "python3"
  },
  "language_info": {
   "codemirror_mode": {
    "name": "ipython",
    "version": 3
   },
   "file_extension": ".py",
   "mimetype": "text/x-python",
   "name": "python",
   "nbconvert_exporter": "python",
   "pygments_lexer": "ipython3",
   "version": "3.8.5"
  }
 },
 "nbformat": 4,
 "nbformat_minor": 4
}
